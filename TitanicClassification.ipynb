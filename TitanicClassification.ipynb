{
  "nbformat": 4,
  "nbformat_minor": 0,
  "metadata": {
    "colab": {
      "provenance": [],
      "authorship_tag": "ABX9TyOAkGtFnD20ERquZ26iPFWo",
      "include_colab_link": true
    },
    "kernelspec": {
      "name": "python3",
      "display_name": "Python 3"
    },
    "language_info": {
      "name": "python"
    }
  },
  "cells": [
    {
      "cell_type": "markdown",
      "metadata": {
        "id": "view-in-github",
        "colab_type": "text"
      },
      "source": [
        "<a href=\"https://colab.research.google.com/github/piyush182004/ML_PROJECTS/blob/main/TitanicClassification.ipynb\" target=\"_parent\"><img src=\"https://colab.research.google.com/assets/colab-badge.svg\" alt=\"Open In Colab\"/></a>"
      ]
    },
    {
      "cell_type": "code",
      "execution_count": null,
      "metadata": {
        "colab": {
          "base_uri": "https://localhost:8080/"
        },
        "id": "Ysj0eWDY8LQs",
        "outputId": "d4e5fa53-552e-4f09-c23f-e3de2d11e30f"
      },
      "outputs": [
        {
          "output_type": "stream",
          "name": "stdout",
          "text": [
            "Mounted at /content/drive\n"
          ]
        }
      ],
      "source": [
        "from google.colab import drive\n",
        "drive.mount('/content/drive')\n"
      ]
    },
    {
      "cell_type": "code",
      "source": [
        "!pip install pandas numpy scikit-learn\n"
      ],
      "metadata": {
        "colab": {
          "base_uri": "https://localhost:8080/"
        },
        "id": "xAze_nClDN87",
        "outputId": "4f1624a8-b973-4201-9396-fe572fdab4d8"
      },
      "execution_count": null,
      "outputs": [
        {
          "output_type": "stream",
          "name": "stdout",
          "text": [
            "Requirement already satisfied: pandas in /usr/local/lib/python3.10/dist-packages (2.1.4)\n",
            "Requirement already satisfied: numpy in /usr/local/lib/python3.10/dist-packages (1.26.4)\n",
            "Requirement already satisfied: scikit-learn in /usr/local/lib/python3.10/dist-packages (1.3.2)\n",
            "Requirement already satisfied: python-dateutil>=2.8.2 in /usr/local/lib/python3.10/dist-packages (from pandas) (2.8.2)\n",
            "Requirement already satisfied: pytz>=2020.1 in /usr/local/lib/python3.10/dist-packages (from pandas) (2024.1)\n",
            "Requirement already satisfied: tzdata>=2022.1 in /usr/local/lib/python3.10/dist-packages (from pandas) (2024.1)\n",
            "Requirement already satisfied: scipy>=1.5.0 in /usr/local/lib/python3.10/dist-packages (from scikit-learn) (1.13.1)\n",
            "Requirement already satisfied: joblib>=1.1.1 in /usr/local/lib/python3.10/dist-packages (from scikit-learn) (1.4.2)\n",
            "Requirement already satisfied: threadpoolctl>=2.0.0 in /usr/local/lib/python3.10/dist-packages (from scikit-learn) (3.5.0)\n",
            "Requirement already satisfied: six>=1.5 in /usr/local/lib/python3.10/dist-packages (from python-dateutil>=2.8.2->pandas) (1.16.0)\n"
          ]
        }
      ]
    },
    {
      "cell_type": "markdown",
      "source": [
        "# *Import necessary libraries*"
      ],
      "metadata": {
        "id": "G-D86BhUAZmK"
      }
    },
    {
      "cell_type": "code",
      "source": [
        "import pandas as pd\n",
        "import numpy as np\n",
        "from sklearn.model_selection import train_test_split\n",
        "from sklearn.ensemble import RandomForestClassifier\n",
        "from sklearn.metrics import accuracy_score, confusion_matrix, classification_report\n"
      ],
      "metadata": {
        "id": "mQuDOgk-AVO4"
      },
      "execution_count": null,
      "outputs": []
    },
    {
      "cell_type": "markdown",
      "source": [
        "# ***Load the datasets***"
      ],
      "metadata": {
        "id": "2WI-kj1EAlfx"
      }
    },
    {
      "cell_type": "code",
      "source": [
        "# Define file paths\n",
        "train_path = '/content/drive/MyDrive/titanic/train.csv'\n",
        "test_path = '/content/drive/MyDrive/titanic/test.csv'\n",
        "gender_submission_path = '/content/drive/MyDrive/titanic/gender_submission.csv'\n",
        "\n",
        "# Load datasets\n",
        "train = pd.read_csv(train_path)\n",
        "test = pd.read_csv(test_path)\n",
        "gender_submission = pd.read_csv(gender_submission_path)\n",
        "\n",
        "# Display dataset information\n",
        "print(\"Train dataset:\")\n",
        "print(train.head())\n",
        "print(train.info())\n",
        "print(train.describe())\n",
        "\n",
        "print(\"\\nTest dataset:\")\n",
        "print(test.head())\n",
        "print(test.info())\n",
        "print(test.describe())\n",
        "\n",
        "print(\"\\nGender submission dataset:\")\n",
        "print(gender_submission.head())\n",
        "print(gender_submission.info())\n",
        "print(gender_submission.describe())\n"
      ],
      "metadata": {
        "colab": {
          "base_uri": "https://localhost:8080/"
        },
        "id": "FGjQMxCXAu8B",
        "outputId": "3ce6e4a9-a7ec-4d4e-d94f-b0bbc4d9b3a1"
      },
      "execution_count": null,
      "outputs": [
        {
          "output_type": "stream",
          "name": "stdout",
          "text": [
            "Train dataset:\n",
            "   PassengerId  Survived  Pclass  \\\n",
            "0            1         0       3   \n",
            "1            2         1       1   \n",
            "2            3         1       3   \n",
            "3            4         1       1   \n",
            "4            5         0       3   \n",
            "\n",
            "                                                Name     Sex   Age  SibSp  \\\n",
            "0                            Braund, Mr. Owen Harris    male  22.0      1   \n",
            "1  Cumings, Mrs. John Bradley (Florence Briggs Th...  female  38.0      1   \n",
            "2                             Heikkinen, Miss. Laina  female  26.0      0   \n",
            "3       Futrelle, Mrs. Jacques Heath (Lily May Peel)  female  35.0      1   \n",
            "4                           Allen, Mr. William Henry    male  35.0      0   \n",
            "\n",
            "   Parch            Ticket     Fare Cabin Embarked  \n",
            "0      0         A/5 21171   7.2500   NaN        S  \n",
            "1      0          PC 17599  71.2833   C85        C  \n",
            "2      0  STON/O2. 3101282   7.9250   NaN        S  \n",
            "3      0            113803  53.1000  C123        S  \n",
            "4      0            373450   8.0500   NaN        S  \n",
            "<class 'pandas.core.frame.DataFrame'>\n",
            "RangeIndex: 891 entries, 0 to 890\n",
            "Data columns (total 12 columns):\n",
            " #   Column       Non-Null Count  Dtype  \n",
            "---  ------       --------------  -----  \n",
            " 0   PassengerId  891 non-null    int64  \n",
            " 1   Survived     891 non-null    int64  \n",
            " 2   Pclass       891 non-null    int64  \n",
            " 3   Name         891 non-null    object \n",
            " 4   Sex          891 non-null    object \n",
            " 5   Age          714 non-null    float64\n",
            " 6   SibSp        891 non-null    int64  \n",
            " 7   Parch        891 non-null    int64  \n",
            " 8   Ticket       891 non-null    object \n",
            " 9   Fare         891 non-null    float64\n",
            " 10  Cabin        204 non-null    object \n",
            " 11  Embarked     889 non-null    object \n",
            "dtypes: float64(2), int64(5), object(5)\n",
            "memory usage: 83.7+ KB\n",
            "None\n",
            "       PassengerId    Survived      Pclass         Age       SibSp  \\\n",
            "count   891.000000  891.000000  891.000000  714.000000  891.000000   \n",
            "mean    446.000000    0.383838    2.308642   29.699118    0.523008   \n",
            "std     257.353842    0.486592    0.836071   14.526497    1.102743   \n",
            "min       1.000000    0.000000    1.000000    0.420000    0.000000   \n",
            "25%     223.500000    0.000000    2.000000   20.125000    0.000000   \n",
            "50%     446.000000    0.000000    3.000000   28.000000    0.000000   \n",
            "75%     668.500000    1.000000    3.000000   38.000000    1.000000   \n",
            "max     891.000000    1.000000    3.000000   80.000000    8.000000   \n",
            "\n",
            "            Parch        Fare  \n",
            "count  891.000000  891.000000  \n",
            "mean     0.381594   32.204208  \n",
            "std      0.806057   49.693429  \n",
            "min      0.000000    0.000000  \n",
            "25%      0.000000    7.910400  \n",
            "50%      0.000000   14.454200  \n",
            "75%      0.000000   31.000000  \n",
            "max      6.000000  512.329200  \n",
            "\n",
            "Test dataset:\n",
            "   PassengerId  Pclass                                          Name     Sex  \\\n",
            "0          892       3                              Kelly, Mr. James    male   \n",
            "1          893       3              Wilkes, Mrs. James (Ellen Needs)  female   \n",
            "2          894       2                     Myles, Mr. Thomas Francis    male   \n",
            "3          895       3                              Wirz, Mr. Albert    male   \n",
            "4          896       3  Hirvonen, Mrs. Alexander (Helga E Lindqvist)  female   \n",
            "\n",
            "    Age  SibSp  Parch   Ticket     Fare Cabin Embarked  \n",
            "0  34.5      0      0   330911   7.8292   NaN        Q  \n",
            "1  47.0      1      0   363272   7.0000   NaN        S  \n",
            "2  62.0      0      0   240276   9.6875   NaN        Q  \n",
            "3  27.0      0      0   315154   8.6625   NaN        S  \n",
            "4  22.0      1      1  3101298  12.2875   NaN        S  \n",
            "<class 'pandas.core.frame.DataFrame'>\n",
            "RangeIndex: 418 entries, 0 to 417\n",
            "Data columns (total 11 columns):\n",
            " #   Column       Non-Null Count  Dtype  \n",
            "---  ------       --------------  -----  \n",
            " 0   PassengerId  418 non-null    int64  \n",
            " 1   Pclass       418 non-null    int64  \n",
            " 2   Name         418 non-null    object \n",
            " 3   Sex          418 non-null    object \n",
            " 4   Age          332 non-null    float64\n",
            " 5   SibSp        418 non-null    int64  \n",
            " 6   Parch        418 non-null    int64  \n",
            " 7   Ticket       418 non-null    object \n",
            " 8   Fare         417 non-null    float64\n",
            " 9   Cabin        91 non-null     object \n",
            " 10  Embarked     418 non-null    object \n",
            "dtypes: float64(2), int64(4), object(5)\n",
            "memory usage: 36.0+ KB\n",
            "None\n",
            "       PassengerId      Pclass         Age       SibSp       Parch        Fare\n",
            "count   418.000000  418.000000  332.000000  418.000000  418.000000  417.000000\n",
            "mean   1100.500000    2.265550   30.272590    0.447368    0.392344   35.627188\n",
            "std     120.810458    0.841838   14.181209    0.896760    0.981429   55.907576\n",
            "min     892.000000    1.000000    0.170000    0.000000    0.000000    0.000000\n",
            "25%     996.250000    1.000000   21.000000    0.000000    0.000000    7.895800\n",
            "50%    1100.500000    3.000000   27.000000    0.000000    0.000000   14.454200\n",
            "75%    1204.750000    3.000000   39.000000    1.000000    0.000000   31.500000\n",
            "max    1309.000000    3.000000   76.000000    8.000000    9.000000  512.329200\n",
            "\n",
            "Gender submission dataset:\n",
            "   PassengerId  Survived\n",
            "0          892         0\n",
            "1          893         1\n",
            "2          894         0\n",
            "3          895         0\n",
            "4          896         1\n",
            "<class 'pandas.core.frame.DataFrame'>\n",
            "RangeIndex: 418 entries, 0 to 417\n",
            "Data columns (total 2 columns):\n",
            " #   Column       Non-Null Count  Dtype\n",
            "---  ------       --------------  -----\n",
            " 0   PassengerId  418 non-null    int64\n",
            " 1   Survived     418 non-null    int64\n",
            "dtypes: int64(2)\n",
            "memory usage: 6.7 KB\n",
            "None\n",
            "       PassengerId    Survived\n",
            "count   418.000000  418.000000\n",
            "mean   1100.500000    0.363636\n",
            "std     120.810458    0.481622\n",
            "min     892.000000    0.000000\n",
            "25%     996.250000    0.000000\n",
            "50%    1100.500000    0.000000\n",
            "75%    1204.750000    1.000000\n",
            "max    1309.000000    1.000000\n"
          ]
        }
      ]
    },
    {
      "cell_type": "markdown",
      "source": [
        "# ***DATA PREPROCESSING***"
      ],
      "metadata": {
        "id": "Qy9NhdWYBHVT"
      }
    },
    {
      "cell_type": "code",
      "source": [
        "# Fill missing values in training data\n",
        "train['Age'].fillna(train['Age'].median(), inplace=True)\n",
        "train['Embarked'].fillna(train['Embarked'].mode()[0], inplace=True)\n",
        "\n",
        "# Fill missing values in test data\n",
        "test['Age'].fillna(test['Age'].median(), inplace=True)\n",
        "test['Fare'].fillna(test['Fare'].median(), inplace=True)\n",
        "\n",
        "# Convert categorical variables to numeric\n",
        "train['Sex'] = train['Sex'].map({'male': 0, 'female': 1})\n",
        "train['Embarked'] = train['Embarked'].map({'S': 0, 'C': 1, 'Q': 2})\n",
        "\n",
        "test['Sex'] = test['Sex'].map({'male': 0, 'female': 1})\n",
        "test['Embarked'] = test['Embarked'].map({'S': 0, 'C': 1, 'Q': 2})\n",
        "\n",
        "# Drop irrelevant columns\n",
        "train.drop(['Name', 'Ticket', 'Cabin', 'PassengerId'], axis=1, inplace=True)\n",
        "test.drop(['Name', 'Ticket', 'Cabin', 'PassengerId'], axis=1, inplace=True)\n",
        "\n",
        "# Verify preprocessing\n",
        "print(\"\\nProcessed train dataset:\")\n",
        "print(train.head())\n",
        "print(train.info())\n",
        "print(train.describe())\n",
        "\n",
        "print(\"\\nProcessed test dataset:\")\n",
        "print(test.head())\n",
        "print(test.info())\n",
        "print(test.describe())\n"
      ],
      "metadata": {
        "colab": {
          "base_uri": "https://localhost:8080/"
        },
        "id": "lFN8lM40BK-H",
        "outputId": "5227ccfe-7c4c-4e46-dfdf-3cc08d9a0537"
      },
      "execution_count": null,
      "outputs": [
        {
          "output_type": "stream",
          "name": "stdout",
          "text": [
            "\n",
            "Processed train dataset:\n",
            "   Survived  Pclass  Sex   Age  SibSp  Parch     Fare  Embarked\n",
            "0         0       3    0  22.0      1      0   7.2500         0\n",
            "1         1       1    1  38.0      1      0  71.2833         1\n",
            "2         1       3    1  26.0      0      0   7.9250         0\n",
            "3         1       1    1  35.0      1      0  53.1000         0\n",
            "4         0       3    0  35.0      0      0   8.0500         0\n",
            "<class 'pandas.core.frame.DataFrame'>\n",
            "RangeIndex: 891 entries, 0 to 890\n",
            "Data columns (total 8 columns):\n",
            " #   Column    Non-Null Count  Dtype  \n",
            "---  ------    --------------  -----  \n",
            " 0   Survived  891 non-null    int64  \n",
            " 1   Pclass    891 non-null    int64  \n",
            " 2   Sex       891 non-null    int64  \n",
            " 3   Age       891 non-null    float64\n",
            " 4   SibSp     891 non-null    int64  \n",
            " 5   Parch     891 non-null    int64  \n",
            " 6   Fare      891 non-null    float64\n",
            " 7   Embarked  891 non-null    int64  \n",
            "dtypes: float64(2), int64(6)\n",
            "memory usage: 55.8 KB\n",
            "None\n",
            "         Survived      Pclass         Sex         Age       SibSp       Parch  \\\n",
            "count  891.000000  891.000000  891.000000  891.000000  891.000000  891.000000   \n",
            "mean     0.383838    2.308642    0.352413   29.361582    0.523008    0.381594   \n",
            "std      0.486592    0.836071    0.477990   13.019697    1.102743    0.806057   \n",
            "min      0.000000    1.000000    0.000000    0.420000    0.000000    0.000000   \n",
            "25%      0.000000    2.000000    0.000000   22.000000    0.000000    0.000000   \n",
            "50%      0.000000    3.000000    0.000000   28.000000    0.000000    0.000000   \n",
            "75%      1.000000    3.000000    1.000000   35.000000    1.000000    0.000000   \n",
            "max      1.000000    3.000000    1.000000   80.000000    8.000000    6.000000   \n",
            "\n",
            "             Fare    Embarked  \n",
            "count  891.000000  891.000000  \n",
            "mean    32.204208    0.361392  \n",
            "std     49.693429    0.635673  \n",
            "min      0.000000    0.000000  \n",
            "25%      7.910400    0.000000  \n",
            "50%     14.454200    0.000000  \n",
            "75%     31.000000    1.000000  \n",
            "max    512.329200    2.000000  \n",
            "\n",
            "Processed test dataset:\n",
            "   Pclass  Sex   Age  SibSp  Parch     Fare  Embarked\n",
            "0       3    0  34.5      0      0   7.8292         2\n",
            "1       3    1  47.0      1      0   7.0000         0\n",
            "2       2    0  62.0      0      0   9.6875         2\n",
            "3       3    0  27.0      0      0   8.6625         0\n",
            "4       3    1  22.0      1      1  12.2875         0\n",
            "<class 'pandas.core.frame.DataFrame'>\n",
            "RangeIndex: 418 entries, 0 to 417\n",
            "Data columns (total 7 columns):\n",
            " #   Column    Non-Null Count  Dtype  \n",
            "---  ------    --------------  -----  \n",
            " 0   Pclass    418 non-null    int64  \n",
            " 1   Sex       418 non-null    int64  \n",
            " 2   Age       418 non-null    float64\n",
            " 3   SibSp     418 non-null    int64  \n",
            " 4   Parch     418 non-null    int64  \n",
            " 5   Fare      418 non-null    float64\n",
            " 6   Embarked  418 non-null    int64  \n",
            "dtypes: float64(2), int64(5)\n",
            "memory usage: 23.0 KB\n",
            "None\n",
            "           Pclass         Sex         Age       SibSp       Parch        Fare  \\\n",
            "count  418.000000  418.000000  418.000000  418.000000  418.000000  418.000000   \n",
            "mean     2.265550    0.363636   29.599282    0.447368    0.392344   35.576535   \n",
            "std      0.841838    0.481622   12.703770    0.896760    0.981429   55.850103   \n",
            "min      1.000000    0.000000    0.170000    0.000000    0.000000    0.000000   \n",
            "25%      1.000000    0.000000   23.000000    0.000000    0.000000    7.895800   \n",
            "50%      3.000000    0.000000   27.000000    0.000000    0.000000   14.454200   \n",
            "75%      3.000000    1.000000   35.750000    1.000000    0.000000   31.471875   \n",
            "max      3.000000    1.000000   76.000000    8.000000    9.000000  512.329200   \n",
            "\n",
            "         Embarked  \n",
            "count  418.000000  \n",
            "mean     0.464115  \n",
            "std      0.685516  \n",
            "min      0.000000  \n",
            "25%      0.000000  \n",
            "50%      0.000000  \n",
            "75%      1.000000  \n",
            "max      2.000000  \n"
          ]
        }
      ]
    },
    {
      "cell_type": "code",
      "source": [
        "# Separate features and target variable\n",
        "X = train.drop('Survived', axis=1)\n",
        "y = train['Survived']\n",
        "\n",
        "# Split data into training and validation sets\n",
        "X_train, X_val, y_train, y_val = train_test_split(X, y, test_size=0.2, random_state=42)\n",
        "\n",
        "print(\"\\nFeature selection and data split complete.\")\n"
      ],
      "metadata": {
        "colab": {
          "base_uri": "https://localhost:8080/"
        },
        "id": "kxuZ6tzmCI0Y",
        "outputId": "b1556693-c3cc-406d-a75a-dd63686fec8c"
      },
      "execution_count": null,
      "outputs": [
        {
          "output_type": "stream",
          "name": "stdout",
          "text": [
            "\n",
            "Feature selection and data split complete.\n"
          ]
        }
      ]
    },
    {
      "cell_type": "code",
      "source": [
        "# Initialize and train Random Forest Classifier\n",
        "rf_model = RandomForestClassifier(n_estimators=100, random_state=42)\n",
        "rf_model.fit(X_train, y_train)\n",
        "\n",
        "print(\"\\nModel trained successfully!\")\n"
      ],
      "metadata": {
        "colab": {
          "base_uri": "https://localhost:8080/"
        },
        "id": "Y65c7icDCOcn",
        "outputId": "c3d1d39a-8274-4720-91f5-dd31165beb8c"
      },
      "execution_count": null,
      "outputs": [
        {
          "output_type": "stream",
          "name": "stdout",
          "text": [
            "\n",
            "Model trained successfully!\n"
          ]
        }
      ]
    },
    {
      "cell_type": "code",
      "source": [
        "# Predict on validation set\n",
        "y_pred = rf_model.predict(X_val)\n",
        "\n",
        "# Evaluate the model\n",
        "accuracy = accuracy_score(y_val, y_pred)\n",
        "print(f'\\nAccuracy: {accuracy:.2f}')\n",
        "\n",
        "conf_matrix = confusion_matrix(y_val, y_pred)\n",
        "print(f'\\nConfusion Matrix:\\n{conf_matrix}')\n",
        "\n",
        "class_report = classification_report(y_val, y_pred)\n",
        "print(f'\\nClassification Report:\\n{class_report}')\n",
        "\n",
        "# Check Accuracy Percentage\n",
        "accuracy_percentage = accuracy * 100\n",
        "print(f'\\nAccuracy Percentage: {accuracy_percentage:.2f}%')\n"
      ],
      "metadata": {
        "colab": {
          "base_uri": "https://localhost:8080/"
        },
        "id": "C-e9oVoDCSAL",
        "outputId": "e62acb8d-3e5b-419f-da8c-41a93879dc0e"
      },
      "execution_count": null,
      "outputs": [
        {
          "output_type": "stream",
          "name": "stdout",
          "text": [
            "\n",
            "Accuracy: 0.83\n",
            "\n",
            "Confusion Matrix:\n",
            "[[92 13]\n",
            " [18 56]]\n",
            "\n",
            "Classification Report:\n",
            "              precision    recall  f1-score   support\n",
            "\n",
            "           0       0.84      0.88      0.86       105\n",
            "           1       0.81      0.76      0.78        74\n",
            "\n",
            "    accuracy                           0.83       179\n",
            "   macro avg       0.82      0.82      0.82       179\n",
            "weighted avg       0.83      0.83      0.83       179\n",
            "\n",
            "\n",
            "Accuracy Percentage: 82.68%\n"
          ]
        }
      ]
    },
    {
      "cell_type": "code",
      "source": [
        "# Check if 'PassengerId' exists in the test DataFrame\n",
        "if 'PassengerId' in test.columns:\n",
        "    passenger_ids = test['PassengerId']\n",
        "    # Drop 'PassengerId' from test data before making predictions\n",
        "    test_data = test.drop(['PassengerId'], axis=1)\n",
        "else:\n",
        "    passenger_ids = None\n",
        "    # Use test data as is if 'PassengerId' does not exist\n",
        "    test_data = test\n",
        "\n",
        "# Make predictions on test data\n",
        "test_predictions = rf_model.predict(test_data)\n",
        "\n",
        "# Prepare the submission DataFrame\n",
        "submission = pd.DataFrame({\n",
        "    'PassengerId': passenger_ids if passenger_ids is not None else range(1, len(test_predictions) + 1),\n",
        "    'Survived': test_predictions\n",
        "})\n",
        "\n",
        "# Save the submission file locally\n",
        "submission.to_csv('submission.csv', index=False)\n",
        "\n",
        "print(\"\\nSubmission DataFrame created:\")\n",
        "print(submission.head())\n"
      ],
      "metadata": {
        "colab": {
          "base_uri": "https://localhost:8080/"
        },
        "id": "vG8N49BZCSBR",
        "outputId": "ee07b599-7cf2-41cd-c297-6c283d88759f"
      },
      "execution_count": null,
      "outputs": [
        {
          "output_type": "stream",
          "name": "stdout",
          "text": [
            "\n",
            "Submission DataFrame created:\n",
            "   PassengerId  Survived\n",
            "0            1         0\n",
            "1            2         0\n",
            "2            3         0\n",
            "3            4         1\n",
            "4            5         0\n"
          ]
        }
      ]
    },
    {
      "cell_type": "code",
      "source": [
        "from google.colab import files\n",
        "files.download('submission.csv')\n"
      ],
      "metadata": {
        "colab": {
          "base_uri": "https://localhost:8080/",
          "height": 17
        },
        "id": "hQ-H-o0wCZ1j",
        "outputId": "6c2755ea-3075-4f6c-c766-1882cc2a161d"
      },
      "execution_count": null,
      "outputs": [
        {
          "output_type": "display_data",
          "data": {
            "text/plain": [
              "<IPython.core.display.Javascript object>"
            ],
            "application/javascript": [
              "\n",
              "    async function download(id, filename, size) {\n",
              "      if (!google.colab.kernel.accessAllowed) {\n",
              "        return;\n",
              "      }\n",
              "      const div = document.createElement('div');\n",
              "      const label = document.createElement('label');\n",
              "      label.textContent = `Downloading \"${filename}\": `;\n",
              "      div.appendChild(label);\n",
              "      const progress = document.createElement('progress');\n",
              "      progress.max = size;\n",
              "      div.appendChild(progress);\n",
              "      document.body.appendChild(div);\n",
              "\n",
              "      const buffers = [];\n",
              "      let downloaded = 0;\n",
              "\n",
              "      const channel = await google.colab.kernel.comms.open(id);\n",
              "      // Send a message to notify the kernel that we're ready.\n",
              "      channel.send({})\n",
              "\n",
              "      for await (const message of channel.messages) {\n",
              "        // Send a message to notify the kernel that we're ready.\n",
              "        channel.send({})\n",
              "        if (message.buffers) {\n",
              "          for (const buffer of message.buffers) {\n",
              "            buffers.push(buffer);\n",
              "            downloaded += buffer.byteLength;\n",
              "            progress.value = downloaded;\n",
              "          }\n",
              "        }\n",
              "      }\n",
              "      const blob = new Blob(buffers, {type: 'application/binary'});\n",
              "      const a = document.createElement('a');\n",
              "      a.href = window.URL.createObjectURL(blob);\n",
              "      a.download = filename;\n",
              "      div.appendChild(a);\n",
              "      a.click();\n",
              "      div.remove();\n",
              "    }\n",
              "  "
            ]
          },
          "metadata": {}
        },
        {
          "output_type": "display_data",
          "data": {
            "text/plain": [
              "<IPython.core.display.Javascript object>"
            ],
            "application/javascript": [
              "download(\"download_0447b6ba-2ee1-49f8-ba24-3228991582a4\", \"submission.csv\", 2421)"
            ]
          },
          "metadata": {}
        }
      ]
    }
  ]
}